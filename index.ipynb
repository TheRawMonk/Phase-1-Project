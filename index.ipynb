{
 "cells": [
  {
   "cell_type": "markdown",
   "metadata": {},
   "source": [
    "### Project Overview\n",
    "\n",
    "For this project, you will use data cleaning, imputation, analysis, and visualization to generate insights for a business stakeholder.\n",
    "\n",
    "#### Business Problem\n",
    "\n",
    "Your company is expanding in to new industries to diversify its portfolio. Specifically, they are interested in purchasing and operating airplanes for commercial and private enterprises, but do not know anything about the potential risks of aircraft. You are charged with determining which aircraft are the lowest risk for the company to start this new business endeavor. You must then translate your findings into actionable insights that the head of the new aviation division can use to help decide which aircraft to purchase.\n",
    "\n",
    "#### Data Analysis Goals\n",
    "\n",
    "- Which make and models have the lowest risk for the company and for what business type are the safest investments?\n",
    "- What types of flights incure the most risk and is there a correlation flight type and fatalities?\n",
    "- What effect on saftey do engines have and how much is this effected by weather?"
   ]
  },
  {
   "cell_type": "code",
   "execution_count": 1,
   "metadata": {},
   "outputs": [],
   "source": [
    "#standard python libraries\n",
    "import pandas as pd\n",
    "import matplotlib.pyplot as plt\n",
    "import numpy as np\n",
    "import seaborn as sns\n",
    "%matplotlib inline"
   ]
  },
  {
   "cell_type": "code",
   "execution_count": 2,
   "metadata": {},
   "outputs": [
    {
     "data": {
      "text/html": [
       "<div>\n",
       "<style scoped>\n",
       "    .dataframe tbody tr th:only-of-type {\n",
       "        vertical-align: middle;\n",
       "    }\n",
       "\n",
       "    .dataframe tbody tr th {\n",
       "        vertical-align: top;\n",
       "    }\n",
       "\n",
       "    .dataframe thead th {\n",
       "        text-align: right;\n",
       "    }\n",
       "</style>\n",
       "<table border=\"1\" class=\"dataframe\">\n",
       "  <thead>\n",
       "    <tr style=\"text-align: right;\">\n",
       "      <th></th>\n",
       "      <th>Event.Id</th>\n",
       "      <th>Investigation.Type</th>\n",
       "      <th>Accident.Number</th>\n",
       "      <th>Event.Date</th>\n",
       "      <th>Location</th>\n",
       "      <th>Country</th>\n",
       "      <th>Latitude</th>\n",
       "      <th>Longitude</th>\n",
       "      <th>Airport.Code</th>\n",
       "      <th>Airport.Name</th>\n",
       "      <th>...</th>\n",
       "      <th>Purpose.of.flight</th>\n",
       "      <th>Air.carrier</th>\n",
       "      <th>Total.Fatal.Injuries</th>\n",
       "      <th>Total.Serious.Injuries</th>\n",
       "      <th>Total.Minor.Injuries</th>\n",
       "      <th>Total.Uninjured</th>\n",
       "      <th>Weather.Condition</th>\n",
       "      <th>Broad.phase.of.flight</th>\n",
       "      <th>Report.Status</th>\n",
       "      <th>Publication.Date</th>\n",
       "    </tr>\n",
       "  </thead>\n",
       "  <tbody>\n",
       "    <tr>\n",
       "      <th>0</th>\n",
       "      <td>20001218X45444</td>\n",
       "      <td>Accident</td>\n",
       "      <td>SEA87LA080</td>\n",
       "      <td>1948-10-24</td>\n",
       "      <td>MOOSE CREEK, ID</td>\n",
       "      <td>United States</td>\n",
       "      <td>NaN</td>\n",
       "      <td>NaN</td>\n",
       "      <td>NaN</td>\n",
       "      <td>NaN</td>\n",
       "      <td>...</td>\n",
       "      <td>Personal</td>\n",
       "      <td>NaN</td>\n",
       "      <td>2.0</td>\n",
       "      <td>0.0</td>\n",
       "      <td>0.0</td>\n",
       "      <td>0.0</td>\n",
       "      <td>UNK</td>\n",
       "      <td>Cruise</td>\n",
       "      <td>Probable Cause</td>\n",
       "      <td>NaN</td>\n",
       "    </tr>\n",
       "    <tr>\n",
       "      <th>1</th>\n",
       "      <td>20001218X45447</td>\n",
       "      <td>Accident</td>\n",
       "      <td>LAX94LA336</td>\n",
       "      <td>1962-07-19</td>\n",
       "      <td>BRIDGEPORT, CA</td>\n",
       "      <td>United States</td>\n",
       "      <td>NaN</td>\n",
       "      <td>NaN</td>\n",
       "      <td>NaN</td>\n",
       "      <td>NaN</td>\n",
       "      <td>...</td>\n",
       "      <td>Personal</td>\n",
       "      <td>NaN</td>\n",
       "      <td>4.0</td>\n",
       "      <td>0.0</td>\n",
       "      <td>0.0</td>\n",
       "      <td>0.0</td>\n",
       "      <td>UNK</td>\n",
       "      <td>Unknown</td>\n",
       "      <td>Probable Cause</td>\n",
       "      <td>19-09-1996</td>\n",
       "    </tr>\n",
       "    <tr>\n",
       "      <th>2</th>\n",
       "      <td>20061025X01555</td>\n",
       "      <td>Accident</td>\n",
       "      <td>NYC07LA005</td>\n",
       "      <td>1974-08-30</td>\n",
       "      <td>Saltville, VA</td>\n",
       "      <td>United States</td>\n",
       "      <td>36.922223</td>\n",
       "      <td>-81.878056</td>\n",
       "      <td>NaN</td>\n",
       "      <td>NaN</td>\n",
       "      <td>...</td>\n",
       "      <td>Personal</td>\n",
       "      <td>NaN</td>\n",
       "      <td>3.0</td>\n",
       "      <td>NaN</td>\n",
       "      <td>NaN</td>\n",
       "      <td>NaN</td>\n",
       "      <td>IMC</td>\n",
       "      <td>Cruise</td>\n",
       "      <td>Probable Cause</td>\n",
       "      <td>26-02-2007</td>\n",
       "    </tr>\n",
       "    <tr>\n",
       "      <th>3</th>\n",
       "      <td>20001218X45448</td>\n",
       "      <td>Accident</td>\n",
       "      <td>LAX96LA321</td>\n",
       "      <td>1977-06-19</td>\n",
       "      <td>EUREKA, CA</td>\n",
       "      <td>United States</td>\n",
       "      <td>NaN</td>\n",
       "      <td>NaN</td>\n",
       "      <td>NaN</td>\n",
       "      <td>NaN</td>\n",
       "      <td>...</td>\n",
       "      <td>Personal</td>\n",
       "      <td>NaN</td>\n",
       "      <td>2.0</td>\n",
       "      <td>0.0</td>\n",
       "      <td>0.0</td>\n",
       "      <td>0.0</td>\n",
       "      <td>IMC</td>\n",
       "      <td>Cruise</td>\n",
       "      <td>Probable Cause</td>\n",
       "      <td>12-09-2000</td>\n",
       "    </tr>\n",
       "    <tr>\n",
       "      <th>4</th>\n",
       "      <td>20041105X01764</td>\n",
       "      <td>Accident</td>\n",
       "      <td>CHI79FA064</td>\n",
       "      <td>1979-08-02</td>\n",
       "      <td>Canton, OH</td>\n",
       "      <td>United States</td>\n",
       "      <td>NaN</td>\n",
       "      <td>NaN</td>\n",
       "      <td>NaN</td>\n",
       "      <td>NaN</td>\n",
       "      <td>...</td>\n",
       "      <td>Personal</td>\n",
       "      <td>NaN</td>\n",
       "      <td>1.0</td>\n",
       "      <td>2.0</td>\n",
       "      <td>NaN</td>\n",
       "      <td>0.0</td>\n",
       "      <td>VMC</td>\n",
       "      <td>Approach</td>\n",
       "      <td>Probable Cause</td>\n",
       "      <td>16-04-1980</td>\n",
       "    </tr>\n",
       "  </tbody>\n",
       "</table>\n",
       "<p>5 rows × 31 columns</p>\n",
       "</div>"
      ],
      "text/plain": [
       "         Event.Id Investigation.Type Accident.Number  Event.Date  \\\n",
       "0  20001218X45444           Accident      SEA87LA080  1948-10-24   \n",
       "1  20001218X45447           Accident      LAX94LA336  1962-07-19   \n",
       "2  20061025X01555           Accident      NYC07LA005  1974-08-30   \n",
       "3  20001218X45448           Accident      LAX96LA321  1977-06-19   \n",
       "4  20041105X01764           Accident      CHI79FA064  1979-08-02   \n",
       "\n",
       "          Location        Country   Latitude   Longitude Airport.Code  \\\n",
       "0  MOOSE CREEK, ID  United States        NaN         NaN          NaN   \n",
       "1   BRIDGEPORT, CA  United States        NaN         NaN          NaN   \n",
       "2    Saltville, VA  United States  36.922223  -81.878056          NaN   \n",
       "3       EUREKA, CA  United States        NaN         NaN          NaN   \n",
       "4       Canton, OH  United States        NaN         NaN          NaN   \n",
       "\n",
       "  Airport.Name  ... Purpose.of.flight Air.carrier Total.Fatal.Injuries  \\\n",
       "0          NaN  ...          Personal         NaN                  2.0   \n",
       "1          NaN  ...          Personal         NaN                  4.0   \n",
       "2          NaN  ...          Personal         NaN                  3.0   \n",
       "3          NaN  ...          Personal         NaN                  2.0   \n",
       "4          NaN  ...          Personal         NaN                  1.0   \n",
       "\n",
       "  Total.Serious.Injuries Total.Minor.Injuries Total.Uninjured  \\\n",
       "0                    0.0                  0.0             0.0   \n",
       "1                    0.0                  0.0             0.0   \n",
       "2                    NaN                  NaN             NaN   \n",
       "3                    0.0                  0.0             0.0   \n",
       "4                    2.0                  NaN             0.0   \n",
       "\n",
       "  Weather.Condition  Broad.phase.of.flight   Report.Status Publication.Date  \n",
       "0               UNK                 Cruise  Probable Cause              NaN  \n",
       "1               UNK                Unknown  Probable Cause       19-09-1996  \n",
       "2               IMC                 Cruise  Probable Cause       26-02-2007  \n",
       "3               IMC                 Cruise  Probable Cause       12-09-2000  \n",
       "4               VMC               Approach  Probable Cause       16-04-1980  \n",
       "\n",
       "[5 rows x 31 columns]"
      ]
     },
     "execution_count": 2,
     "metadata": {},
     "output_type": "execute_result"
    }
   ],
   "source": [
    "#reading csv file into data frame for data cleaning\n",
    "df = pd.read_csv('AviationData.csv', encoding = 'ISO-8859-1', low_memory=False)\n",
    "df.head()"
   ]
  },
  {
   "cell_type": "code",
   "execution_count": 3,
   "metadata": {},
   "outputs": [
    {
     "data": {
      "text/plain": [
       "Index(['Event.Id', 'Investigation.Type', 'Accident.Number', 'Event.Date',\n",
       "       'Location', 'Country', 'Latitude', 'Longitude', 'Airport.Code',\n",
       "       'Airport.Name', 'Injury.Severity', 'Aircraft.damage',\n",
       "       'Aircraft.Category', 'Registration.Number', 'Make', 'Model',\n",
       "       'Amateur.Built', 'Number.of.Engines', 'Engine.Type', 'FAR.Description',\n",
       "       'Schedule', 'Purpose.of.flight', 'Air.carrier', 'Total.Fatal.Injuries',\n",
       "       'Total.Serious.Injuries', 'Total.Minor.Injuries', 'Total.Uninjured',\n",
       "       'Weather.Condition', 'Broad.phase.of.flight', 'Report.Status',\n",
       "       'Publication.Date'],\n",
       "      dtype='object')"
      ]
     },
     "execution_count": 3,
     "metadata": {},
     "output_type": "execute_result"
    }
   ],
   "source": [
    "df.columns"
   ]
  },
  {
   "cell_type": "code",
   "execution_count": 4,
   "metadata": {},
   "outputs": [],
   "source": [
    "#droping columns that are not required for answering our data questions\n",
    "df = df.drop(['Publication.Date','Latitude', 'Country', 'Location', 'Event.Date', 'Accident.Number',\n",
    "              'Report.Status', 'Airport.Code', 'Airport.Name', 'Registration.Number', \n",
    "              'Air.carrier', 'Amateur.Built', 'Longitude', 'FAR.Description', 'Schedule',\n",
    "              'Broad.phase.of.flight', 'Event.Id'],axis=1)"
   ]
  },
  {
   "cell_type": "code",
   "execution_count": 5,
   "metadata": {},
   "outputs": [],
   "source": [
    "#replacing NAN values with unkown for the following columns\n",
    "df['Purpose.of.flight'].fillna(value = 'Unknown', inplace=True)\n",
    "df['Engine.Type'].fillna(value = 'Unknown', inplace=True)\n",
    "df['Engine.Type'] = df['Engine.Type'].map(lambda x: 'Unkown' if x == 'UNK' or x == 'None' or x == 'NONE' else x)\n",
    "df['Aircraft.damage'].fillna(value = 'Unknown', inplace=True)"
   ]
  },
  {
   "cell_type": "markdown",
   "metadata": {},
   "source": [
    "##### Instrument meteorological conditions (IMC) - defined as less than the minima specified for VMC\n",
    "\n",
    "##### Visual meteorological conditions (VMC) - following are VMC\n",
    "\n",
    "- When above 3,000ft or 1,000ft above terrain, whichever is higher:\n",
    "        1500m horizontally and 1,000 ft vertically from cloud;\n",
    "        Flight visibility 5km below 10,000ft and 8km above 10,000ft.\n",
    "        \n",
    "- When below 3,000ft or 1,000ft above terrain, whichever is higher:\n",
    "         Clear of cloud and in sight of the surface;\n",
    "         Flight visibility 5km."
   ]
  },
  {
   "cell_type": "code",
   "execution_count": 6,
   "metadata": {},
   "outputs": [],
   "source": [
    "#Replacing NAN values with UNK for unkown weather information\n",
    "df['Weather.Condition'].fillna(value = 'UNK', inplace=True)\n",
    "df['Weather.Condition'] = df['Weather.Condition'].map(lambda x: 'UNK' if x == 'Unk' else x)"
   ]
  },
  {
   "cell_type": "code",
   "execution_count": 7,
   "metadata": {},
   "outputs": [
    {
     "data": {
      "text/plain": [
       "Airplane    27617\n",
       "Name: Aircraft.Category, dtype: int64"
      ]
     },
     "execution_count": 7,
     "metadata": {},
     "output_type": "execute_result"
    }
   ],
   "source": [
    "#Removing non airplanes from data set\n",
    "#All questions to be answered only apply to Airplanes\n",
    "df = df[df['Aircraft.Category'] == 'Airplane']\n",
    "df['Aircraft.Category'].value_counts()"
   ]
  },
  {
   "cell_type": "code",
   "execution_count": 8,
   "metadata": {},
   "outputs": [],
   "source": [
    "#droping nan from following two columns due to small number of NAN values\n",
    "#and renaming columns for ease of use\n",
    "new_column_names = {'Injury.Severity':'Severity', 'Aircraft.damage':'Aircraft Damage', 'Number.of.Engines':'Engines',\n",
    "                    'Purpose.of.flight':'Purpose', 'Total.Fatal.Injuries':'Fatal', 'Total.Serious.Injuries':'Serious',\n",
    "                    'Total.Minor.Injuries':'Minor', 'Total.Uninjured':'Uninjured', 'Weather.Condition':'Weather',\n",
    "                    'Aircraft.Category':'Aircraft Category', 'Engine.Type':'Engine Type', 'Investigation.Type':'Investigation'}\n",
    "df.rename(columns=new_column_names, inplace=True)\n",
    "df = df.dropna(subset=['Make', 'Model'])"
   ]
  },
  {
   "cell_type": "markdown",
   "metadata": {},
   "source": [
    "Next step is to fill in the NaN for our number catagories. \n",
    "\n",
    "In order to do this it needs to determined what method we will use. Such as replacing with the mean, median, etc."
   ]
  },
  {
   "cell_type": "code",
   "execution_count": 9,
   "metadata": {
    "scrolled": true
   },
   "outputs": [
    {
     "name": "stderr",
     "output_type": "stream",
     "text": [
      "<ipython-input-9-d6fb7f174747>:13: SettingWithCopyWarning: \n",
      "A value is trying to be set on a copy of a slice from a DataFrame\n",
      "\n",
      "See the caveats in the documentation: https://pandas.pydata.org/pandas-docs/stable/user_guide/indexing.html#returning-a-view-versus-a-copy\n",
      "  df['Fatality'][~df['Fatality'].isna()] = df['Fatality'][~df['Fatality'].isna()].astype(int)\n"
     ]
    },
    {
     "data": {
      "text/plain": [
       "Non-Fatal    22410\n",
       "Fatal         5150\n",
       "Name: Severity, dtype: int64"
      ]
     },
     "execution_count": 9,
     "metadata": {},
     "output_type": "execute_result"
    }
   ],
   "source": [
    "#Removie numbers from brackets ex: fatal(29) extracted to 29\n",
    "df['Fatality'] = df['Severity'].str.extract(r'\\((\\d+)\\)')\n",
    "#Fill nan values with values from Severity\n",
    "df['Fatality'].fillna(df['Severity'], inplace=True)\n",
    "#Replace values in df column 0 for non fatal string names\n",
    "df['Fatality'].replace({'Non-Fatal': 0, 'Minor': 0, 'Serious': 0, 'Incident': 0}, inplace=True)\n",
    "#returns number in 'Fatal' column for every string = 'Fatal' \n",
    "#in 'Fatality' column and copies that into 'Fatality' Column\n",
    "df['Fatality'] = df.apply(lambda row: row['Fatal'] if row['Fatality'] == 'Fatal' else row['Fatality'], axis=1)\n",
    "#replaces string 'Unavailable' with NaN for later conversion of the column to a number\n",
    "df['Fatality'].replace('Unavailable', np.nan, inplace=True)\n",
    "#convert any column that is NOT NaN into an int\n",
    "df['Fatality'][~df['Fatality'].isna()] = df['Fatality'][~df['Fatality'].isna()].astype(int)\n",
    "#Fill in NaN values with numbers from the Fatal column\n",
    "df['Fatality'].fillna(df['Fatal'], inplace=True)\n",
    "#Drop remaining NaN values. 20 NaN values remained so minimal data was lost\n",
    "df.dropna(subset = ['Fatality'], inplace=True)\n",
    "#Copy 'Fatality' column to 'Fatal' column and drop 'Fatality' column\n",
    "df['Fatal'] = df['Fatality']\n",
    "df.drop(['Fatality'],axis=1)\n",
    "#Clean Severity column to catagories 'Fatal' and 'Non-Fatal'\n",
    "df['Severity'] = df.apply(lambda x: 'Non-Fatal' if x['Fatal'] == 0 else 'Fatal', axis=1)\n",
    "df['Severity'].value_counts()"
   ]
  },
  {
   "cell_type": "code",
   "execution_count": 10,
   "metadata": {},
   "outputs": [
    {
     "data": {
      "text/plain": [
       "Investigation           0\n",
       "Severity                0\n",
       "Aircraft Damage         0\n",
       "Aircraft Category       0\n",
       "Make                    0\n",
       "Model                   0\n",
       "Engines              2730\n",
       "Engine Type             0\n",
       "Purpose                 0\n",
       "Fatal                   0\n",
       "Serious              3196\n",
       "Minor                2851\n",
       "Uninjured             874\n",
       "Weather                 0\n",
       "Fatality                0\n",
       "dtype: int64"
      ]
     },
     "execution_count": 10,
     "metadata": {},
     "output_type": "execute_result"
    }
   ],
   "source": [
    "df.isna().sum()"
   ]
  },
  {
   "cell_type": "code",
   "execution_count": 11,
   "metadata": {},
   "outputs": [],
   "source": [
    "Engines_vc = df['Engines'].value_counts()\n",
    "Fatal_vc = df['Fatal'].value_counts()\n",
    "Serious_vc = df['Serious'].value_counts()\n",
    "Minor_vc = df['Minor'].value_counts()\n",
    "Uninjured_vc = df['Uninjured'].value_counts()"
   ]
  },
  {
   "cell_type": "code",
   "execution_count": 12,
   "metadata": {},
   "outputs": [
    {
     "data": {
      "image/png": "[encoded data removed]",
      "text/plain": [
       "<Figure size 864x576 with 5 Axes>"
      ]
     },
     "metadata": {
      "needs_background": "light"
     },
     "output_type": "display_data"
    }
   ],
   "source": [
    "plt.figure(figsize=(12, 8))\n",
    "\n",
    "# Engines\n",
    "plt.subplot(2, 3, 1)\n",
    "plt.bar(Engines_vc.index[0:5], Engines_vc.values[0:5], color='blue')\n",
    "plt.title('Number of Engines')\n",
    "plt.xlabel('Engines per aircraft')\n",
    "plt.ylabel('Total Number of accidents')\n",
    "\n",
    "# Fatalities\n",
    "plt.subplot(2, 3, 2)\n",
    "plt.bar(Fatal_vc.index[0:5], Fatal_vc.values[0:5], color='green')\n",
    "plt.title('Number of Fatalities')\n",
    "plt.xlabel('Fatalities per accident')\n",
    "plt.ylabel('Total Fatalities')\n",
    "\n",
    "# Serious\n",
    "plt.subplot(2, 3, 3)\n",
    "plt.bar(Serious_vc.index[0:5], Serious_vc.values[0:5], color='red')\n",
    "plt.title('Number of Serious Injuries')\n",
    "plt.xlabel('Serious Injuries per accident')\n",
    "plt.ylabel('Total Serious Injuries')\n",
    "\n",
    "# Minor\n",
    "plt.subplot(2, 3, 4)\n",
    "plt.bar(Minor_vc.index[0:5], Minor_vc.values[0:5], color='purple')\n",
    "plt.title('Number of Minor Injuries')\n",
    "plt.xlabel('Minor Injuries per accident')\n",
    "plt.ylabel('Total Minor Injuries')\n",
    "\n",
    "# Uninjured\n",
    "plt.subplot(2, 3, 5)\n",
    "plt.bar(Uninjured_vc.index[0:5], Uninjured_vc.values[0:5], color='orange')\n",
    "plt.title('Number of Uninjured')\n",
    "plt.xlabel('Uninjured per accident')\n",
    "plt.ylabel('Total Uninjured')\n",
    "\n",
    "plt.tight_layout()  # Adjusts spacing between subplots\n",
    "plt.show()"
   ]
  },
  {
   "cell_type": "code",
   "execution_count": 13,
   "metadata": {},
   "outputs": [
    {
     "data": {
      "text/html": [
       "<div>\n",
       "<style scoped>\n",
       "    .dataframe tbody tr th:only-of-type {\n",
       "        vertical-align: middle;\n",
       "    }\n",
       "\n",
       "    .dataframe tbody tr th {\n",
       "        vertical-align: top;\n",
       "    }\n",
       "\n",
       "    .dataframe thead th {\n",
       "        text-align: right;\n",
       "    }\n",
       "</style>\n",
       "<table border=\"1\" class=\"dataframe\">\n",
       "  <thead>\n",
       "    <tr style=\"text-align: right;\">\n",
       "      <th></th>\n",
       "      <th>Engines</th>\n",
       "      <th>Fatal</th>\n",
       "      <th>Serious</th>\n",
       "      <th>Minor</th>\n",
       "      <th>Uninjured</th>\n",
       "      <th>Fatality</th>\n",
       "    </tr>\n",
       "  </thead>\n",
       "  <tbody>\n",
       "    <tr>\n",
       "      <th>count</th>\n",
       "      <td>24830.000000</td>\n",
       "      <td>27560.000000</td>\n",
       "      <td>24364.000000</td>\n",
       "      <td>24709.000000</td>\n",
       "      <td>26686.000000</td>\n",
       "      <td>27560.000000</td>\n",
       "    </tr>\n",
       "    <tr>\n",
       "      <th>mean</th>\n",
       "      <td>1.158558</td>\n",
       "      <td>0.581023</td>\n",
       "      <td>0.297734</td>\n",
       "      <td>0.254118</td>\n",
       "      <td>6.373567</td>\n",
       "      <td>0.581023</td>\n",
       "    </tr>\n",
       "    <tr>\n",
       "      <th>std</th>\n",
       "      <td>0.407685</td>\n",
       "      <td>5.601674</td>\n",
       "      <td>2.099036</td>\n",
       "      <td>2.897034</td>\n",
       "      <td>31.867330</td>\n",
       "      <td>5.601674</td>\n",
       "    </tr>\n",
       "    <tr>\n",
       "      <th>min</th>\n",
       "      <td>0.000000</td>\n",
       "      <td>0.000000</td>\n",
       "      <td>0.000000</td>\n",
       "      <td>0.000000</td>\n",
       "      <td>0.000000</td>\n",
       "      <td>0.000000</td>\n",
       "    </tr>\n",
       "    <tr>\n",
       "      <th>25%</th>\n",
       "      <td>1.000000</td>\n",
       "      <td>0.000000</td>\n",
       "      <td>0.000000</td>\n",
       "      <td>0.000000</td>\n",
       "      <td>0.000000</td>\n",
       "      <td>0.000000</td>\n",
       "    </tr>\n",
       "    <tr>\n",
       "      <th>50%</th>\n",
       "      <td>1.000000</td>\n",
       "      <td>0.000000</td>\n",
       "      <td>0.000000</td>\n",
       "      <td>0.000000</td>\n",
       "      <td>1.000000</td>\n",
       "      <td>0.000000</td>\n",
       "    </tr>\n",
       "    <tr>\n",
       "      <th>75%</th>\n",
       "      <td>1.000000</td>\n",
       "      <td>0.000000</td>\n",
       "      <td>0.000000</td>\n",
       "      <td>0.000000</td>\n",
       "      <td>2.000000</td>\n",
       "      <td>0.000000</td>\n",
       "    </tr>\n",
       "    <tr>\n",
       "      <th>max</th>\n",
       "      <td>8.000000</td>\n",
       "      <td>295.000000</td>\n",
       "      <td>161.000000</td>\n",
       "      <td>380.000000</td>\n",
       "      <td>588.000000</td>\n",
       "      <td>295.000000</td>\n",
       "    </tr>\n",
       "  </tbody>\n",
       "</table>\n",
       "</div>"
      ],
      "text/plain": [
       "            Engines         Fatal       Serious         Minor     Uninjured  \\\n",
       "count  24830.000000  27560.000000  24364.000000  24709.000000  26686.000000   \n",
       "mean       1.158558      0.581023      0.297734      0.254118      6.373567   \n",
       "std        0.407685      5.601674      2.099036      2.897034     31.867330   \n",
       "min        0.000000      0.000000      0.000000      0.000000      0.000000   \n",
       "25%        1.000000      0.000000      0.000000      0.000000      0.000000   \n",
       "50%        1.000000      0.000000      0.000000      0.000000      1.000000   \n",
       "75%        1.000000      0.000000      0.000000      0.000000      2.000000   \n",
       "max        8.000000    295.000000    161.000000    380.000000    588.000000   \n",
       "\n",
       "           Fatality  \n",
       "count  27560.000000  \n",
       "mean       0.581023  \n",
       "std        5.601674  \n",
       "min        0.000000  \n",
       "25%        0.000000  \n",
       "50%        0.000000  \n",
       "75%        0.000000  \n",
       "max      295.000000  "
      ]
     },
     "execution_count": 13,
     "metadata": {},
     "output_type": "execute_result"
    }
   ],
   "source": [
    "df.describe()"
   ]
  },
  {
   "cell_type": "code",
   "execution_count": 14,
   "metadata": {
    "scrolled": true
   },
   "outputs": [
    {
     "data": {
      "text/plain": [
       "Investigation        0\n",
       "Severity             0\n",
       "Aircraft Damage      0\n",
       "Aircraft Category    0\n",
       "Make                 0\n",
       "Model                0\n",
       "Engines              0\n",
       "Engine Type          0\n",
       "Purpose              0\n",
       "Fatal                0\n",
       "Serious              0\n",
       "Minor                0\n",
       "Uninjured            0\n",
       "Weather              0\n",
       "Fatality             0\n",
       "dtype: int64"
      ]
     },
     "execution_count": 14,
     "metadata": {},
     "output_type": "execute_result"
    }
   ],
   "source": [
    "#based on chart data showing large positive skewing replacing NaN values for the following with median Value\n",
    "df['Engines'].fillna(value = df['Engines'].median(), inplace = True)\n",
    "df['Serious'].fillna(value = df['Serious'].median(), inplace = True)\n",
    "df['Minor'].fillna(value = df['Minor'].median(), inplace = True)\n",
    "df['Uninjured'].fillna(value = df['Uninjured'].median(), inplace = True)\n",
    "df.isna().sum()"
   ]
  },
  {
   "cell_type": "code",
   "execution_count": 15,
   "metadata": {},
   "outputs": [
    {
     "data": {
      "image/png": "[encoded data removed]",
      "text/plain": [
       "<Figure size 864x576 with 5 Axes>"
      ]
     },
     "metadata": {
      "needs_background": "light"
     },
     "output_type": "display_data"
    }
   ],
   "source": [
    "#updated chart to see change visually \n",
    "plt.figure(figsize=(12, 8))\n",
    "\n",
    "# Engines\n",
    "plt.subplot(2, 3, 1)\n",
    "plt.bar(Engines_vc.index[0:5], Engines_vc.values[0:5], color='blue')\n",
    "plt.title('Number of Engines')\n",
    "plt.xlabel('Engines per aircraft')\n",
    "plt.ylabel('Total Number of accidents')\n",
    "\n",
    "# Fatalities\n",
    "plt.subplot(2, 3, 2)\n",
    "plt.bar(Fatal_vc.index[0:5], Fatal_vc.values[0:5], color='green')\n",
    "plt.title('Number of Fatalities')\n",
    "plt.xlabel('Fatalities per accident')\n",
    "plt.ylabel('Total Fatalities')\n",
    "\n",
    "# Serious\n",
    "plt.subplot(2, 3, 3)\n",
    "plt.bar(Serious_vc.index[0:5], Serious_vc.values[0:5], color='red')\n",
    "plt.title('Number of Serious Injuries')\n",
    "plt.xlabel('Serious Injuries per accident')\n",
    "plt.ylabel('Total Serious Injuries')\n",
    "\n",
    "# Minor\n",
    "plt.subplot(2, 3, 4)\n",
    "plt.bar(Minor_vc.index[0:5], Minor_vc.values[0:5], color='purple')\n",
    "plt.title('Number of Minor Injuries')\n",
    "plt.xlabel('Minor Injuries per accident')\n",
    "plt.ylabel('Total Minor Injuries')\n",
    "\n",
    "# Uninjured\n",
    "plt.subplot(2, 3, 5)\n",
    "plt.bar(Uninjured_vc.index[0:5], Uninjured_vc.values[0:5], color='orange')\n",
    "plt.title('Number of Uninjured')\n",
    "plt.xlabel('Uninjured per accident')\n",
    "plt.ylabel('Total Uninjured')\n",
    "\n",
    "plt.tight_layout()  # Adjusts spacing between subplots\n",
    "plt.show()"
   ]
  },
  {
   "cell_type": "code",
   "execution_count": 16,
   "metadata": {},
   "outputs": [
    {
     "name": "stdout",
     "output_type": "stream",
     "text": [
      "3533\n"
     ]
    },
    {
     "data": {
      "text/plain": [
       "CESSNA                8467\n",
       "PIPER                 4714\n",
       "BEECH                 1691\n",
       "BOEING                1313\n",
       "MOONEY                 419\n",
       "BELLANCA               282\n",
       "GRUMMAN                251\n",
       "AIRBUS                 245\n",
       "MAULE                  232\n",
       "AERONCA                229\n",
       "AIR TRACTOR            224\n",
       "CIRRUS DESIGN CORP     220\n",
       "AIR TRACTOR INC        219\n",
       "CHAMPION               170\n",
       "LUSCOMBE               164\n",
       "EMBRAER                154\n",
       "STINSON                146\n",
       "CIRRUS                 137\n",
       "VANS                   125\n",
       "NORTH AMERICAN         118\n",
       "Name: Make, dtype: int64"
      ]
     },
     "execution_count": 16,
     "metadata": {},
     "output_type": "execute_result"
    }
   ],
   "source": [
    "df['Make'] = df['Make'].str.upper()\n",
    "df['Model'] = df['Model'].str.upper()\n",
    "print(len(df['Make'].unique()))\n",
    "df['Make'].value_counts().nlargest(20)"
   ]
  },
  {
   "cell_type": "code",
   "execution_count": 17,
   "metadata": {},
   "outputs": [
    {
     "name": "stdout",
     "output_type": "stream",
     "text": [
      "2015\n"
     ]
    }
   ],
   "source": [
    "#cleaning Make Column\n",
    "#Droping rows with NA as the make. Only 1 row was droped.\n",
    "df = df[df['Make'] != 'NA']\n",
    "#looping thru index to standardize names for makes\n",
    "#following method will not work for models\n",
    "for item in df['Make'].value_counts().index:\n",
    "    df['Make'] = df['Make'].apply(lambda x: item if item in x else x)\n",
    "\n",
    "#following method will not work for models  \n",
    "df['Make'] = df['Make'].apply(lambda x: 'DE HAVILLAND' if 'DEHAVILLAND' in x else x)\n",
    "df['Make'] = df['Make'].apply(lambda x: 'AERO TECHNIK' if 'AEROTECHNIK' in x else x)\n",
    "print(len(df['Make'].unique()))"
   ]
  },
  {
   "cell_type": "code",
   "execution_count": 18,
   "metadata": {},
   "outputs": [
    {
     "data": {
      "text/plain": [
       "5067"
      ]
     },
     "execution_count": 18,
     "metadata": {},
     "output_type": "execute_result"
    }
   ],
   "source": [
    "len(df['Model'].value_counts())"
   ]
  },
  {
   "cell_type": "code",
   "execution_count": 32,
   "metadata": {},
   "outputs": [
    {
     "data": {
      "text/plain": [
       "Personal                     16138\n",
       "Unknown                       4588\n",
       "Instructional                 3211\n",
       "Aerial Application            1066\n",
       "Business                       784\n",
       "Positioning                    358\n",
       "Flight Test                    226\n",
       "Ferry                          176\n",
       "Aerial Observation             170\n",
       "Skydiving                      166\n",
       "Other Work Use                 158\n",
       "Executive/corporate            151\n",
       "Banner Tow                      89\n",
       "Air Race show                   74\n",
       "Public Aircraft - Federal       53\n",
       "Public Aircraft                 43\n",
       "Glider Tow                      35\n",
       "Public Aircraft - State         24\n",
       "Firefighting                    17\n",
       "Public Aircraft - Local         12\n",
       "Air Race/show                    7\n",
       "ASHO                             6\n",
       "Air Drop                         3\n",
       "PUBS                             3\n",
       "External Load                    1\n",
       "Name: Purpose, dtype: int64"
      ]
     },
     "execution_count": 32,
     "metadata": {},
     "output_type": "execute_result"
    }
   ],
   "source": [
    "# df['Model'] = df['Model'].str.replace('-', ' ')\n",
    "# #df['Model'] = df['Model'].apply(str_clean)\n",
    "# df['Model'] = df['Model'].apply(lambda x: x.split(\" \", 2)[0] if len(x.split(\" \", 2)) > 1 else x)\n",
    "# #df['Model'].value_counts().sort_values(ascending=False)\n",
    "\n",
    "# df['Model'].value_counts()\n",
    "df['Purpose'].value_counts()"
   ]
  },
  {
   "cell_type": "code",
   "execution_count": 38,
   "metadata": {},
   "outputs": [
    {
     "data": {
      "text/html": [
       "<div>\n",
       "<style scoped>\n",
       "    .dataframe tbody tr th:only-of-type {\n",
       "        vertical-align: middle;\n",
       "    }\n",
       "\n",
       "    .dataframe tbody tr th {\n",
       "        vertical-align: top;\n",
       "    }\n",
       "\n",
       "    .dataframe thead th {\n",
       "        text-align: right;\n",
       "    }\n",
       "</style>\n",
       "<table border=\"1\" class=\"dataframe\">\n",
       "  <thead>\n",
       "    <tr style=\"text-align: right;\">\n",
       "      <th></th>\n",
       "      <th>Make</th>\n",
       "      <th>Model</th>\n",
       "      <th>Purpose</th>\n",
       "      <th>AccidentCount</th>\n",
       "    </tr>\n",
       "  </thead>\n",
       "  <tbody>\n",
       "    <tr>\n",
       "      <th>2177</th>\n",
       "      <td>CESSNA</td>\n",
       "      <td>172</td>\n",
       "      <td>Personal</td>\n",
       "      <td>444</td>\n",
       "    </tr>\n",
       "    <tr>\n",
       "      <th>1544</th>\n",
       "      <td>BOEING</td>\n",
       "      <td>737</td>\n",
       "      <td>Unknown</td>\n",
       "      <td>401</td>\n",
       "    </tr>\n",
       "    <tr>\n",
       "      <th>2175</th>\n",
       "      <td>CESSNA</td>\n",
       "      <td>172</td>\n",
       "      <td>Instructional</td>\n",
       "      <td>303</td>\n",
       "    </tr>\n",
       "    <tr>\n",
       "      <th>2138</th>\n",
       "      <td>CESSNA</td>\n",
       "      <td>152</td>\n",
       "      <td>Instructional</td>\n",
       "      <td>261</td>\n",
       "    </tr>\n",
       "    <tr>\n",
       "      <th>2368</th>\n",
       "      <td>CESSNA</td>\n",
       "      <td>182</td>\n",
       "      <td>Personal</td>\n",
       "      <td>222</td>\n",
       "    </tr>\n",
       "    <tr>\n",
       "      <th>...</th>\n",
       "      <td>...</td>\n",
       "      <td>...</td>\n",
       "      <td>...</td>\n",
       "      <td>...</td>\n",
       "    </tr>\n",
       "    <tr>\n",
       "      <th>3800</th>\n",
       "      <td>DE HAVILLAND</td>\n",
       "      <td>DHC8 - 102</td>\n",
       "      <td>Unknown</td>\n",
       "      <td>1</td>\n",
       "    </tr>\n",
       "    <tr>\n",
       "      <th>3796</th>\n",
       "      <td>DE HAVILLAND</td>\n",
       "      <td>DHC3</td>\n",
       "      <td>Instructional</td>\n",
       "      <td>1</td>\n",
       "    </tr>\n",
       "    <tr>\n",
       "      <th>3793</th>\n",
       "      <td>DE HAVILLAND</td>\n",
       "      <td>DHC2</td>\n",
       "      <td>Aerial Observation</td>\n",
       "      <td>1</td>\n",
       "    </tr>\n",
       "    <tr>\n",
       "      <th>3792</th>\n",
       "      <td>DE HAVILLAND</td>\n",
       "      <td>DHC-II</td>\n",
       "      <td>Unknown</td>\n",
       "      <td>1</td>\n",
       "    </tr>\n",
       "    <tr>\n",
       "      <th>9107</th>\n",
       "      <td>ZUBAIR S KHAN</td>\n",
       "      <td>RAVEN</td>\n",
       "      <td>Personal</td>\n",
       "      <td>1</td>\n",
       "    </tr>\n",
       "  </tbody>\n",
       "</table>\n",
       "<p>9108 rows × 4 columns</p>\n",
       "</div>"
      ],
      "text/plain": [
       "               Make       Model             Purpose  AccidentCount\n",
       "2177         CESSNA         172            Personal            444\n",
       "1544         BOEING         737             Unknown            401\n",
       "2175         CESSNA         172       Instructional            303\n",
       "2138         CESSNA         152       Instructional            261\n",
       "2368         CESSNA         182            Personal            222\n",
       "...             ...         ...                 ...            ...\n",
       "3800   DE HAVILLAND  DHC8 - 102             Unknown              1\n",
       "3796   DE HAVILLAND        DHC3       Instructional              1\n",
       "3793   DE HAVILLAND        DHC2  Aerial Observation              1\n",
       "3792   DE HAVILLAND      DHC-II             Unknown              1\n",
       "9107  ZUBAIR S KHAN       RAVEN            Personal              1\n",
       "\n",
       "[9108 rows x 4 columns]"
      ]
     },
     "execution_count": 38,
     "metadata": {},
     "output_type": "execute_result"
    }
   ],
   "source": [
    "# Trying to see the relationship between Makes, Models and engine types with accidents \n",
    "make_model_purpose_counts = df.groupby(['Make', 'Model', 'Purpose']).size().reset_index(name='AccidentCount', drop=False)\n",
    "make_model_purpose_counts = make_model_purpose_counts.sort_values(by='AccidentCount', ascending=False)\n",
    "make_model_purpose_counts = make_model_purpose_counts[make_model_purpose_counts['Purpose']!='Unkown']\n",
    "make_model_purpose_counts"
   ]
  },
  {
   "cell_type": "code",
   "execution_count": 39,
   "metadata": {},
   "outputs": [
    {
     "data": {
      "text/html": [
       "<div>\n",
       "<style scoped>\n",
       "    .dataframe tbody tr th:only-of-type {\n",
       "        vertical-align: middle;\n",
       "    }\n",
       "\n",
       "    .dataframe tbody tr th {\n",
       "        vertical-align: top;\n",
       "    }\n",
       "\n",
       "    .dataframe thead th {\n",
       "        text-align: right;\n",
       "    }\n",
       "</style>\n",
       "<table border=\"1\" class=\"dataframe\">\n",
       "  <thead>\n",
       "    <tr style=\"text-align: right;\">\n",
       "      <th></th>\n",
       "      <th>Make</th>\n",
       "      <th>Model</th>\n",
       "      <th>AccidentCount</th>\n",
       "    </tr>\n",
       "  </thead>\n",
       "  <tbody>\n",
       "    <tr>\n",
       "      <th>1644</th>\n",
       "      <td>CESSNA</td>\n",
       "      <td>172</td>\n",
       "      <td>868</td>\n",
       "    </tr>\n",
       "    <tr>\n",
       "      <th>1629</th>\n",
       "      <td>CESSNA</td>\n",
       "      <td>152</td>\n",
       "      <td>451</td>\n",
       "    </tr>\n",
       "    <tr>\n",
       "      <th>1119</th>\n",
       "      <td>BOEING</td>\n",
       "      <td>737</td>\n",
       "      <td>404</td>\n",
       "    </tr>\n",
       "    <tr>\n",
       "      <th>1711</th>\n",
       "      <td>CESSNA</td>\n",
       "      <td>182</td>\n",
       "      <td>345</td>\n",
       "    </tr>\n",
       "    <tr>\n",
       "      <th>1676</th>\n",
       "      <td>CESSNA</td>\n",
       "      <td>172N</td>\n",
       "      <td>316</td>\n",
       "    </tr>\n",
       "    <tr>\n",
       "      <th>...</th>\n",
       "      <td>...</td>\n",
       "      <td>...</td>\n",
       "      <td>...</td>\n",
       "    </tr>\n",
       "    <tr>\n",
       "      <th>2872</th>\n",
       "      <td>EVENS</td>\n",
       "      <td>RV-6</td>\n",
       "      <td>1</td>\n",
       "    </tr>\n",
       "    <tr>\n",
       "      <th>2871</th>\n",
       "      <td>EVENS</td>\n",
       "      <td>BEARHAWK PATROL</td>\n",
       "      <td>1</td>\n",
       "    </tr>\n",
       "    <tr>\n",
       "      <th>2869</th>\n",
       "      <td>EVEKTOR</td>\n",
       "      <td>EV97</td>\n",
       "      <td>1</td>\n",
       "    </tr>\n",
       "    <tr>\n",
       "      <th>2868</th>\n",
       "      <td>EUROPRO CZ</td>\n",
       "      <td>EUROFOX</td>\n",
       "      <td>1</td>\n",
       "    </tr>\n",
       "    <tr>\n",
       "      <th>6777</th>\n",
       "      <td>ZUBAIR S KHAN</td>\n",
       "      <td>RAVEN</td>\n",
       "      <td>1</td>\n",
       "    </tr>\n",
       "  </tbody>\n",
       "</table>\n",
       "<p>6778 rows × 3 columns</p>\n",
       "</div>"
      ],
      "text/plain": [
       "               Make            Model  AccidentCount\n",
       "1644         CESSNA              172            868\n",
       "1629         CESSNA              152            451\n",
       "1119         BOEING              737            404\n",
       "1711         CESSNA              182            345\n",
       "1676         CESSNA             172N            316\n",
       "...             ...              ...            ...\n",
       "2872          EVENS             RV-6              1\n",
       "2871          EVENS  BEARHAWK PATROL              1\n",
       "2869        EVEKTOR             EV97              1\n",
       "2868     EUROPRO CZ          EUROFOX              1\n",
       "6777  ZUBAIR S KHAN            RAVEN              1\n",
       "\n",
       "[6778 rows x 3 columns]"
      ]
     },
     "execution_count": 39,
     "metadata": {},
     "output_type": "execute_result"
    }
   ],
   "source": [
    "make_model_accident_counts = df.groupby(['Make', 'Model']).size().reset_index(name='AccidentCount', drop=False)\n",
    "make_model_accident_counts = make_model_accident_counts.sort_values(by='AccidentCount', ascending=False)\n",
    "make_model_accident_counts"
   ]
  },
  {
   "cell_type": "code",
   "execution_count": 33,
   "metadata": {},
   "outputs": [
    {
     "data": {
      "text/html": [
       "<div>\n",
       "<style scoped>\n",
       "    .dataframe tbody tr th:only-of-type {\n",
       "        vertical-align: middle;\n",
       "    }\n",
       "\n",
       "    .dataframe tbody tr th {\n",
       "        vertical-align: top;\n",
       "    }\n",
       "\n",
       "    .dataframe thead th {\n",
       "        text-align: right;\n",
       "    }\n",
       "</style>\n",
       "<table border=\"1\" class=\"dataframe\">\n",
       "  <thead>\n",
       "    <tr style=\"text-align: right;\">\n",
       "      <th></th>\n",
       "      <th>AccidentCount</th>\n",
       "    </tr>\n",
       "  </thead>\n",
       "  <tbody>\n",
       "    <tr>\n",
       "      <th>count</th>\n",
       "      <td>5.000000</td>\n",
       "    </tr>\n",
       "    <tr>\n",
       "      <th>mean</th>\n",
       "      <td>476.800000</td>\n",
       "    </tr>\n",
       "    <tr>\n",
       "      <th>std</th>\n",
       "      <td>224.850395</td>\n",
       "    </tr>\n",
       "    <tr>\n",
       "      <th>min</th>\n",
       "      <td>316.000000</td>\n",
       "    </tr>\n",
       "    <tr>\n",
       "      <th>25%</th>\n",
       "      <td>345.000000</td>\n",
       "    </tr>\n",
       "    <tr>\n",
       "      <th>50%</th>\n",
       "      <td>404.000000</td>\n",
       "    </tr>\n",
       "    <tr>\n",
       "      <th>75%</th>\n",
       "      <td>451.000000</td>\n",
       "    </tr>\n",
       "    <tr>\n",
       "      <th>max</th>\n",
       "      <td>868.000000</td>\n",
       "    </tr>\n",
       "  </tbody>\n",
       "</table>\n",
       "</div>"
      ],
      "text/plain": [
       "       AccidentCount\n",
       "count       5.000000\n",
       "mean      476.800000\n",
       "std       224.850395\n",
       "min       316.000000\n",
       "25%       345.000000\n",
       "50%       404.000000\n",
       "75%       451.000000\n",
       "max       868.000000"
      ]
     },
     "execution_count": 33,
     "metadata": {},
     "output_type": "execute_result"
    }
   ],
   "source": [
    "# Investigation        0\n",
    "# Severity             0\n",
    "# Aircraft Damage      0\n",
    "# Aircraft Category    0\n",
    "# Make                 0\n",
    "# Model                0\n",
    "# Engines              0\n",
    "# Engine Type          0\n",
    "# Purpose              0\n",
    "# Fatal                0\n",
    "# Serious              0\n",
    "# Minor                0\n",
    "# Uninjured            0\n",
    "# Weather              0\n",
    "# Fatality             0\n",
    "accident.describe()"
   ]
  },
  {
   "cell_type": "code",
   "execution_count": 36,
   "metadata": {},
   "outputs": [
    {
     "data": {
      "image/png": "[encoded data removed]",
      "text/plain": [
       "<Figure size 576x576 with 1 Axes>"
      ]
     },
     "metadata": {
      "needs_background": "light"
     },
     "output_type": "display_data"
    }
   ],
   "source": [
    "plt.figure(figsize=(8, 8))\n",
    "\n",
    "# Engines\n",
    "plt.bar(accident['Make'] + ' ' + accident['Model'], accident['AccidentCount'], color='blue')\n",
    "plt.title('Number of Engines')\n",
    "plt.xlabel('Engines per aircraft')\n",
    "plt.ylabel('Total Number of accidents')\n",
    "\n",
    "plt.tight_layout()  # Adjusts spacing between subplots\n",
    "plt.show()"
   ]
  },
  {
   "cell_type": "code",
   "execution_count": 42,
   "metadata": {},
   "outputs": [
    {
     "data": {
      "text/plain": [
       "Personal                     4826\n",
       "Unknown                      1551\n",
       "Instructional                 771\n",
       "Business                      436\n",
       "Positioning                   267\n",
       "Flight Test                   220\n",
       "Aerial Application            172\n",
       "Ferry                         161\n",
       "Other Work Use                127\n",
       "Aerial Observation            113\n",
       "Executive/corporate           109\n",
       "Air Race show                  69\n",
       "Skydiving                      65\n",
       "Banner Tow                     49\n",
       "Public Aircraft - Federal      44\n",
       "Public Aircraft                40\n",
       "Glider Tow                     25\n",
       "Public Aircraft - State        20\n",
       "Public Aircraft - Local        12\n",
       "Firefighting                   11\n",
       "Air Race/show                   7\n",
       "ASHO                            6\n",
       "PUBS                            3\n",
       "Air Drop                        3\n",
       "External Load                   1\n",
       "Name: Purpose, dtype: int64"
      ]
     },
     "execution_count": 42,
     "metadata": {},
     "output_type": "execute_result"
    }
   ],
   "source": [
    "make_model_purpose_counts['Purpose'].value_counts()"
   ]
  },
  {
   "cell_type": "code",
   "execution_count": 37,
   "metadata": {},
   "outputs": [
    {
     "data": {
      "image/png": "[encoded data removed]",
      "text/plain": [
       "<Figure size 864x576 with 5 Axes>"
      ]
     },
     "metadata": {
      "needs_background": "light"
     },
     "output_type": "display_data"
    }
   ],
   "source": [
    "Personal = make_model_purpose_counts['Personal'].tail()\n",
    "Business = make_model_purpose_counts['Personal'].tail()\n",
    "Instructional = make_model_purpose_counts['Personal'].tail()\n",
    "Executive = make_model_purpose_counts['Personal'].tail()\n",
    "\n",
    "#make_model_purpose_counts\n",
    "plt.figure(figsize=(12, 8))\n",
    "\n",
    "# Total Accidents\n",
    "plt.subplot(2, 3, 1)\n",
    "plt.bar(Engines_vc.index[0:5], Engines_vc.values[0:5], color='blue')\n",
    "plt.title('Number of Engines')\n",
    "plt.xlabel('Engines per aircraft')\n",
    "plt.ylabel('Total Number of accidents')\n",
    "\n",
    "# Fatalities\n",
    "plt.subplot(2, 3, 2)\n",
    "plt.bar(Fatal_vc.index[0:5], Fatal_vc.values[0:5], color='green')\n",
    "plt.title('Number of Fatalities')\n",
    "plt.xlabel('Fatalities per accident')\n",
    "plt.ylabel('Total Fatalities')\n",
    "\n",
    "# Serious\n",
    "plt.subplot(2, 3, 3)\n",
    "plt.bar(Serious_vc.index[0:5], Serious_vc.values[0:5], color='red')\n",
    "plt.title('Number of Serious Injuries')\n",
    "plt.xlabel('Serious Injuries per accident')\n",
    "plt.ylabel('Total Serious Injuries')\n",
    "\n",
    "# Minor\n",
    "plt.subplot(2, 3, 4)\n",
    "plt.bar(Minor_vc.index[0:5], Minor_vc.values[0:5], color='purple')\n",
    "plt.title('Number of Minor Injuries')\n",
    "plt.xlabel('Minor Injuries per accident')\n",
    "plt.ylabel('Total Minor Injuries')\n",
    "\n",
    "# Uninjured\n",
    "plt.subplot(2, 3, 5)\n",
    "plt.bar(Uninjured_vc.index[0:5], Uninjured_vc.values[0:5], color='orange')\n",
    "plt.title('Number of Uninjured')\n",
    "plt.xlabel('Uninjured per accident')\n",
    "plt.ylabel('Total Uninjured')\n",
    "\n",
    "# Uninjured\n",
    "plt.subplot(2, 3, 5)\n",
    "plt.bar(Uninjured_vc.index[0:5], Uninjured_vc.values[0:5], color='orange')\n",
    "plt.title('Number of Uninjured')\n",
    "plt.xlabel('Uninjured per accident')\n",
    "plt.ylabel('Total Uninjured')\n",
    "\n",
    "plt.tight_layout()  # Adjusts spacing between subplots\n",
    "plt.show()"
   ]
  },
  {
   "cell_type": "code",
   "execution_count": null,
   "metadata": {
    "scrolled": false
   },
   "outputs": [],
   "source": [
    "# df.groupby(['Make', 'Model']).max()"
   ]
  },
  {
   "cell_type": "code",
   "execution_count": null,
   "metadata": {},
   "outputs": [],
   "source": [
    "# print(len(df['Model'].unique()))\n",
    "# print(len(df['Make'].unique()))\n",
    "# df['Accident Counter'] = 1\n",
    "# df.groupby(['Make', 'Model']).sum()"
   ]
  },
  {
   "cell_type": "code",
   "execution_count": null,
   "metadata": {},
   "outputs": [],
   "source": [
    "# df['Make'] = df['Make'].apply(lambda x: 'DE HAVILLAND' if 'DEHAVILLAND' in x else x)\n",
    "# # df['Make'] = df['Make'].apply(lambda x: 'DE HAVILLAND' if 'DEHAVILLAND' in x else x)\n",
    "# # df['Make'] = df['Make'].apply(lambda x: 'DE HAVILLAND' if 'DEHAVILLAND' in x else x)\n",
    "# df['Make'] = df['Make'].apply(lambda x: 'AERO TECHNIK' if 'AEROTECHNIK' in x else x)"
   ]
  }
 ],
 "metadata": {
  "kernelspec": {
   "display_name": "Python (learn-env)",
   "language": "python",
   "name": "learn-env"
  },
  "language_info": {
   "codemirror_mode": {
    "name": "ipython",
    "version": 3
   },
   "file_extension": ".py",
   "mimetype": "text/x-python",
   "name": "python",
   "nbconvert_exporter": "python",
   "pygments_lexer": "ipython3",
   "version": "3.8.5"
  }
 },
 "nbformat": 4,
 "nbformat_minor": 4
}
